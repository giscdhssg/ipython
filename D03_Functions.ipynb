{
 "metadata": {
  "name": "D03_Functions"
 },
 "nbformat": 3,
 "nbformat_minor": 0,
 "worksheets": [
  {
   "cells": [
    {
     "cell_type": "heading",
     "level": 1,
     "metadata": {},
     "source": [
      "Functions"
     ]
    },
    {
     "cell_type": "markdown",
     "metadata": {},
     "source": [
      "DRY. Code reuse."
     ]
    },
    {
     "cell_type": "markdown",
     "metadata": {},
     "source": [
      "## Random numbers\n",
      "\n",
      "Random numbers occur frequently in real life eg\n",
      "\n",
      "* simulation\n",
      "* games of chance\n",
      "\n",
      "Need a way for computers to generate random numbers to automate such tasks.\n",
      "\n",
      "However, computers are deterministic (always follow a fixed set of instructions),\n",
      "\n",
      "so impossible to generate true random numbers."
     ]
    },
    {
     "cell_type": "code",
     "collapsed": false,
     "input": [
      "import random\n",
      "\n",
      "# generate a random integer between a to b inclusive\n",
      "# random.randint(a, b)\n",
      "\n",
      "print(random.randint(1, 6))"
     ],
     "language": "python",
     "metadata": {},
     "outputs": [
      {
       "output_type": "stream",
       "stream": "stdout",
       "text": [
        "2\n"
       ]
      }
     ],
     "prompt_number": 3
    },
    {
     "cell_type": "code",
     "collapsed": false,
     "input": [
      "import random\n",
      "\n",
      "# random real number 0 <= x < 1\n",
      "print(random.random())"
     ],
     "language": "python",
     "metadata": {},
     "outputs": [
      {
       "output_type": "stream",
       "stream": "stdout",
       "text": [
        "0.9336886875856487\n"
       ]
      }
     ],
     "prompt_number": 4
    },
    {
     "cell_type": "markdown",
     "metadata": {},
     "source": [
      "A function is a reusable subprogram.\n",
      "\n",
      "* perform a single task (and perform it well)\n",
      "* already come across many built-in functions eg print(), input(), lower(), chr(), randint(), etc.\n",
      "\n",
      "Now we learn how to write our own."
     ]
    },
    {
     "cell_type": "code",
     "collapsed": false,
     "input": [
      "# function to print greeting message\n",
      "def hello():\n",
      "    print(\"Good morning!\")\n",
      "\n",
      "# main\n",
      "hello()"
     ],
     "language": "python",
     "metadata": {},
     "outputs": [
      {
       "output_type": "stream",
       "stream": "stdout",
       "text": [
        "Good morning!\n"
       ]
      }
     ],
     "prompt_number": 6
    },
    {
     "cell_type": "code",
     "collapsed": false,
     "input": [
      "# function to print menu\n",
      "def menu():\n",
      "    print(\"(1)Display\")\n",
      "    print(\"(2)Insert\")\n",
      "    print(\"(3)Delete\")\n",
      "    print(\"(4)Update\")\n",
      "    print(\"(0)Quit\")\n",
      "\n",
      "# main \n",
      "if __name__ == \"__main__\": \n",
      "    menu()"
     ],
     "language": "python",
     "metadata": {},
     "outputs": [
      {
       "output_type": "stream",
       "stream": "stdout",
       "text": [
        "(1)Display\n",
        "(2)Insert\n",
        "(3)Delete\n",
        "(4)Update\n",
        "(0)Quit\n"
       ]
      }
     ],
     "prompt_number": 7
    },
    {
     "cell_type": "code",
     "collapsed": false,
     "input": [
      "# function to display salutation with name \n",
      "def greet(sname, gender):\n",
      "    if gender == 'M' or gender == 'm':\n",
      "        print(\"Good morning Mr \" + sname)\n",
      "    else:\n",
      "        print(\"Halo Ms \" + sname)\n",
      "\n",
      "# main\n",
      "# name = input(\"Your name: \")\n",
      "# sex = input(\"Gender: \")\n",
      "greet(\"Tom\", 'M')\n",
      "greet(\"Mary\", 'F')"
     ],
     "language": "python",
     "metadata": {},
     "outputs": [
      {
       "output_type": "stream",
       "stream": "stdout",
       "text": [
        "Good morning Mr Tom\n",
        "Halo Ms Mary\n"
       ]
      }
     ],
     "prompt_number": 9
    },
    {
     "cell_type": "code",
     "collapsed": false,
     "input": [
      "import random\n",
      "\n",
      "# function to simulate dice throwing\n",
      "def throw_dice():  \n",
      "    x = random.randint(1,6)\n",
      "    return x     # return dice value\n",
      "\n",
      "\n",
      "# main\n",
      "score = throw_dice()    # function call\n",
      "print(\"Score = \" + str(score))"
     ],
     "language": "python",
     "metadata": {},
     "outputs": [
      {
       "output_type": "stream",
       "stream": "stdout",
       "text": [
        "Score = 4\n"
       ]
      }
     ],
     "prompt_number": 10
    },
    {
     "cell_type": "markdown",
     "metadata": {},
     "source": [
      "## Exercise\n",
      "\n",
      "Write a function is_prime() to test whether a non-negative number k is prime."
     ]
    },
    {
     "cell_type": "code",
     "collapsed": false,
     "input": [],
     "language": "python",
     "metadata": {},
     "outputs": []
    },
    {
     "cell_type": "markdown",
     "metadata": {},
     "source": [
      "## Exercise\n",
      "\n",
      "Write a function linear_search() to search for an item in a list A of n integers.\n",
      "\n",
      "For a start, take n = 10\n",
      "\n",
      "A = [67, 12, 98, 43, 50, 6, 29, 100, 71, 35]"
     ]
    },
    {
     "cell_type": "code",
     "collapsed": false,
     "input": [],
     "language": "python",
     "metadata": {},
     "outputs": []
    },
    {
     "cell_type": "markdown",
     "metadata": {},
     "source": [
      "## Top-down design\n",
      "\n",
      "* process of breaking down complex problem successively into smaller and simpler subproblems which can be solved easily\n",
      "* divide and conquer"
     ]
    },
    {
     "cell_type": "code",
     "collapsed": false,
     "input": [
      "# Top-down design example\n",
      "\n",
      "def menu():\n",
      "    print(\"(1) Search\")\n",
      "    print(\"(2) Insert\")\n",
      "    print(\"(3) Update\")\n",
      "    print(\"(4) Delete\")\n",
      "    print(\"(0) Quit\")\n",
      " \n",
      "def search():\n",
      "    print(\"In search\")\n",
      "\n",
      "def insert():\n",
      "    print(\"In insert\")\n",
      "    \n",
      "def update():\n",
      "    print(\"In update\")\n",
      " \n",
      "def delete():\n",
      "    print(\"In delete\")\n",
      "\n",
      "def quit_prog():\n",
      "    print(\"Bye\")     \n",
      "\n",
      "# main\n",
      "choice = -1     # initialize to invalid choice\n",
      "while choice != 0:\n",
      "    menu()\n",
      "    choice = int(input(\"Enter choice: \"))\n",
      "    if choice == 1:\n",
      "        search()\n",
      "    elif choice == 2:\n",
      "        insert()\n",
      "    elif choice == 3:\n",
      "        update()\n",
      "    elif choice == 4:\n",
      "        delete()\n",
      "    elif choice != 0:\n",
      "        print(\"Invalid choice! Try again.\")\n",
      "    else:\n",
      "        quit_prog()"
     ],
     "language": "python",
     "metadata": {},
     "outputs": []
    },
    {
     "cell_type": "markdown",
     "metadata": {},
     "source": [
      "## Recursion\n",
      "\n",
      "* a powerful problem solving methodology\n",
      "* program calls itself with (a) smaller and similar subproblem(s) (recursive case(s))\n",
      "* until its base/anchor/terminating case(s) which can be solved directly\n",
      "* program then backtracks to solve the problem"
     ]
    },
    {
     "cell_type": "code",
     "collapsed": false,
     "input": [
      "# Factorial \n",
      "# fact(n) = n * fact(n-1) # recursive case\n",
      "# fact(1) = 1 # terminating case\n",
      " \n",
      "def fact(n):\n",
      "    if n == 1:\n",
      "        return 1\n",
      "    else:\n",
      "        return n * fact(n-1)\n",
      " \n",
      "# main\n",
      "print(fact(5))"
     ],
     "language": "python",
     "metadata": {},
     "outputs": [
      {
       "output_type": "stream",
       "stream": "stdout",
       "text": [
        "120\n"
       ]
      }
     ],
     "prompt_number": 16
    },
    {
     "cell_type": "markdown",
     "metadata": {},
     "source": [
      "A recursive solution can always be converted into an iterative one and vice versa."
     ]
    },
    {
     "cell_type": "code",
     "collapsed": false,
     "input": [
      "# Factorial using iteration\n",
      "# 5! = 5 * 4 * 3 * 2 * 1 \n",
      " \n",
      "def fact(n):\n",
      "    result = 1\n",
      "    for i in range(n, 0, -1):\n",
      "        result = result * i\n",
      "    return result\n",
      " \n",
      "# main\n",
      "print(fact(5))"
     ],
     "language": "python",
     "metadata": {},
     "outputs": [
      {
       "output_type": "stream",
       "stream": "stdout",
       "text": [
        "120\n"
       ]
      }
     ],
     "prompt_number": 17
    },
    {
     "cell_type": "markdown",
     "metadata": {},
     "source": [
      "### Recursion vs Iteration\n",
      "\n",
      "* recursive solution generally less efficient (uses more memory/resources) than an iterative one\n",
      "* however, some problems lend themselves to simple and elegant recursive solutions "
     ]
    },
    {
     "cell_type": "markdown",
     "metadata": {},
     "source": [
      "### About recursion\n",
      "\n",
      "* divides a problem into one or more sub-problems that are similar in form to the original problem\n",
      "* a divide-n-conquer technique\n",
      "\n",
      "Allows for\n",
      "\n",
      "* simplification of problem\n",
      "* a more 'elegant' solution\n",
      "* potential parallelization of computation"
     ]
    },
    {
     "cell_type": "code",
     "collapsed": false,
     "input": [
      "# Fibonacci \n",
      "# fib(n) = fib(n-1) + fib(n-2), n > 2 # recursive case\n",
      "# fib(1) = 1, fib(2) = 1 # terminating cases\n",
      " \n",
      "def fib(n):\n",
      " \n",
      "   if n <= 2:\n",
      "        return 1\n",
      "   else:\n",
      "        return fib(n-1) + fib(n-2)\n",
      " \n",
      "# main\n",
      "print(fib(10))"
     ],
     "language": "python",
     "metadata": {},
     "outputs": [
      {
       "output_type": "stream",
       "stream": "stdout",
       "text": [
        "55\n"
       ]
      }
     ],
     "prompt_number": 19
    },
    {
     "cell_type": "code",
     "collapsed": false,
     "input": [
      "# Anything wrong with this recursive function?\n",
      "\n",
      "def mystery(n):\n",
      "    if n == 1:\n",
      "        return 1\n",
      "    else:\n",
      "        return 1 + mystery(n)"
     ],
     "language": "python",
     "metadata": {},
     "outputs": [],
     "prompt_number": 20
    },
    {
     "cell_type": "code",
     "collapsed": false,
     "input": [
      "# Binary search \n",
      "# binsearch(target, low, high) \n",
      " \n",
      "def binsearch(target, low, high):\n",
      "    mid = int((low + high) / 2)\n",
      "    if A[mid] == target: # found\n",
      "        return True\n",
      "    elif low > high:    # not found\n",
      "        return False \n",
      "    elif A[mid] > target:\n",
      "        return binsearch(target,low,mid-1)\n",
      "    else: \n",
      "        return binsearch(target,mid+1,high)"
     ],
     "language": "python",
     "metadata": {},
     "outputs": [],
     "prompt_number": 21
    },
    {
     "cell_type": "code",
     "collapsed": false,
     "input": [],
     "language": "python",
     "metadata": {},
     "outputs": []
    }
   ],
   "metadata": {}
  }
 ]
}
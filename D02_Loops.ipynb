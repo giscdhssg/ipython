{
 "metadata": {
  "name": "D02_Loops"
 },
 "nbformat": 3,
 "nbformat_minor": 0,
 "worksheets": [
  {
   "cells": [
    {
     "cell_type": "heading",
     "level": 1,
     "metadata": {},
     "source": [
      "Loop / Iteration / Repetition"
     ]
    },
    {
     "cell_type": "markdown",
     "metadata": {},
     "source": [
      "The power of computing comes mainly from its ability to repeat tirelessly.\n",
      "\n",
      "The loop construct allows a fixed pattern to be repeated many times. There are types of loops in Python.\n",
      "\n",
      "* for (fixed number of times)\n",
      "* while (variable number of times, 0 or more)"
     ]
    },
    {
     "cell_type": "heading",
     "level": 2,
     "metadata": {},
     "source": [
      "for"
     ]
    },
    {
     "cell_type": "code",
     "collapsed": false,
     "input": [
      "# print 1 to 10\n",
      " \n",
      "for i in range(1, 11): # start inclusive, stop exclusive, optional step\n",
      "    print(i)"
     ],
     "language": "python",
     "metadata": {},
     "outputs": [
      {
       "output_type": "stream",
       "stream": "stdout",
       "text": [
        "1\n",
        "2\n",
        "3\n",
        "4\n",
        "5\n",
        "6\n",
        "7\n",
        "8\n",
        "9\n",
        "10\n"
       ]
      }
     ],
     "prompt_number": 2
    },
    {
     "cell_type": "code",
     "collapsed": false,
     "input": [
      "# iterate over string\n",
      " \n",
      "for letter in \"Python\":\n",
      "    print(letter)"
     ],
     "language": "python",
     "metadata": {},
     "outputs": [
      {
       "output_type": "stream",
       "stream": "stdout",
       "text": [
        "P\n",
        "y\n",
        "t\n",
        "h\n",
        "o\n",
        "n\n"
       ]
      }
     ],
     "prompt_number": 3
    },
    {
     "cell_type": "code",
     "collapsed": false,
     "input": [
      "# compute sum of 1 to 10\n",
      "\n",
      "total = 0\n",
      "\n",
      "for i in range(1, 11):\n",
      "    total = total + i\n",
      " \n",
      "print(total)"
     ],
     "language": "python",
     "metadata": {},
     "outputs": [
      {
       "output_type": "stream",
       "stream": "stdout",
       "text": [
        "55\n"
       ]
      }
     ],
     "prompt_number": 5
    },
    {
     "cell_type": "heading",
     "level": 2,
     "metadata": {},
     "source": [
      "Lists"
     ]
    },
    {
     "cell_type": "markdown",
     "metadata": {},
     "source": [
      "A powerful and flexible data structure in Python to store a collection of (unlike) items.\n",
      "\n",
      "Say if you want to store 10 scores, you could use\n",
      " \n",
      "    s1, s2, s3, ... s10\n",
      " \n",
      "Now what if you want to store 100 scores? Or 1000000 scores?\n",
      "\n",
      "There must be a better way.\n"
     ]
    },
    {
     "cell_type": "markdown",
     "metadata": {},
     "source": [
      "Lists can comprise items of the same data type (array)."
     ]
    },
    {
     "cell_type": "code",
     "collapsed": false,
     "input": [
      "fruits = ['apple', 'banana', 'mango']\n",
      " \n",
      "for fruit in fruits:\n",
      "    print(fruit)"
     ],
     "language": "python",
     "metadata": {},
     "outputs": [
      {
       "output_type": "stream",
       "stream": "stdout",
       "text": [
        "apple\n",
        "banana\n",
        "mango\n"
       ]
      }
     ],
     "prompt_number": 6
    },
    {
     "cell_type": "markdown",
     "metadata": {},
     "source": [
      "Lists can comprise items of different/mixed data types."
     ]
    },
    {
     "cell_type": "code",
     "collapsed": false,
     "input": [
      "info = [123, 'Lim Ah Seng', 67.5]\n",
      " \n",
      "for item in info:\n",
      "    print(item)"
     ],
     "language": "python",
     "metadata": {},
     "outputs": [
      {
       "output_type": "stream",
       "stream": "stdout",
       "text": [
        "123\n",
        "Lim Ah Seng\n",
        "67.5\n"
       ]
      }
     ],
     "prompt_number": 7
    },
    {
     "cell_type": "heading",
     "level": 2,
     "metadata": {},
     "source": [
      "while"
     ]
    },
    {
     "cell_type": "code",
     "collapsed": false,
     "input": [
      "# print from 1 to 10 \n",
      " \n",
      "i = 1\n",
      "while i <= 10:\n",
      "   print(i)\n",
      "   i = i + 1"
     ],
     "language": "python",
     "metadata": {},
     "outputs": [
      {
       "output_type": "stream",
       "stream": "stdout",
       "text": [
        "1\n",
        "2\n",
        "3\n",
        "4\n",
        "5\n",
        "6\n",
        "7\n",
        "8\n",
        "9\n",
        "10\n"
       ]
      }
     ],
     "prompt_number": 9
    },
    {
     "cell_type": "code",
     "collapsed": false,
     "input": [
      "# infinite loop\n",
      " \n",
      "while True:  # never ending\n",
      "   print(1)"
     ],
     "language": "python",
     "metadata": {},
     "outputs": []
    },
    {
     "cell_type": "code",
     "collapsed": false,
     "input": [
      "# number guessing game\n",
      "\n",
      "number = 23\n",
      "running = True\n",
      "\n",
      "while running:\n",
      "    guess = int(input(\"Guess an integer: \"))\n",
      "    if guess == number:\n",
      "        print(\"Bingo!\")\n",
      "        running = False # to end loop\n",
      "    elif guess < number:\n",
      "        print(\"Guess higher\")\n",
      "    else:\n",
      "        print(\"Guess lower\")"
     ],
     "language": "python",
     "metadata": {},
     "outputs": []
    },
    {
     "cell_type": "markdown",
     "metadata": {},
     "source": [
      "## Exercise\n",
      "\n",
      "Write a program to prompt the user for x positive integers, one at a time. Compute the sum of all x integers entered.\n",
      "\n",
      "Use a list."
     ]
    },
    {
     "cell_type": "code",
     "collapsed": false,
     "input": [],
     "language": "python",
     "metadata": {},
     "outputs": []
    },
    {
     "cell_type": "markdown",
     "metadata": {},
     "source": [
      "## Exercise\n",
      "\n",
      "Write a program to prompt the user for x integers, one at a time. Compute the average of all positive integers entered."
     ]
    },
    {
     "cell_type": "code",
     "collapsed": false,
     "input": [],
     "language": "python",
     "metadata": {},
     "outputs": []
    },
    {
     "cell_type": "markdown",
     "metadata": {},
     "source": [
      "## Exercise\n",
      "\n",
      "Write a program to prompt the user for x positive integers, one at a time, until the user terminate with -1. Determine the largest and smallest numbers entered."
     ]
    },
    {
     "cell_type": "code",
     "collapsed": false,
     "input": [],
     "language": "python",
     "metadata": {},
     "outputs": []
    }
   ],
   "metadata": {}
  }
 ]
}
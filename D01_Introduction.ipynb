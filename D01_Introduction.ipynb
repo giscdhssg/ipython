{
 "metadata": {
  "name": "D01_Introduction"
 },
 "nbformat": 3,
 "nbformat_minor": 0,
 "worksheets": [
  {
   "cells": [
    {
     "cell_type": "heading",
     "level": 1,
     "metadata": {},
     "source": [
      "Good morning!"
     ]
    },
    {
     "cell_type": "markdown",
     "metadata": {},
     "source": [
      "Welcome to Python."
     ]
    },
    {
     "cell_type": "markdown",
     "metadata": {},
     "source": [
      "## Output\n",
      "\n",
      "To display output to the screen, use print(\"&lt;your message&gt;\")."
     ]
    },
    {
     "cell_type": "code",
     "collapsed": false,
     "input": [
      "# print a greeting message\n",
      "print(\"Good morning!\")\n",
      "\n",
      "# print a stored value\n",
      "name = \"Lim Ah Seng\"\n",
      "print(name)\n",
      "\n",
      "# combining the two\n",
      "print(\"Good morning \" + name)"
     ],
     "language": "python",
     "metadata": {},
     "outputs": [
      {
       "output_type": "stream",
       "stream": "stdout",
       "text": [
        "Good morning!\n",
        "Lim Ah Seng\n",
        "Good morning Lim Ah Seng\n"
       ]
      }
     ],
     "prompt_number": 1
    },
    {
     "cell_type": "markdown",
     "metadata": {},
     "source": [
      "## Data Types\n",
      "\n",
      "In daily life we often deal with numbers, conditions and text. We represent these as data types in a programming language. Some of the common data types in Python are:"
     ]
    },
    {
     "cell_type": "markdown",
     "metadata": {},
     "source": [
      "* int - whole numbers\n",
      "* float - numbers with a fractional component\n",
      "* bool - true or false\n",
      "* str - text"
     ]
    },
    {
     "cell_type": "code",
     "collapsed": false,
     "input": [
      "num_items = 5\n",
      "print(type(num_items))\n",
      "\n",
      "price = 1.30\n",
      "print(type(price))\n",
      "\n",
      "sunny = True\n",
      "print(type(sunny))"
     ],
     "language": "python",
     "metadata": {},
     "outputs": [
      {
       "output_type": "stream",
       "stream": "stdout",
       "text": [
        "<class 'int'>\n",
        "<class 'float'>\n",
        "<class 'bool'>\n"
       ]
      }
     ],
     "prompt_number": 2
    },
    {
     "cell_type": "markdown",
     "metadata": {},
     "source": [
      "### Strings\n",
      "\n",
      "We want to say a little more about strings, since we deal with textual information most often."
     ]
    },
    {
     "cell_type": "code",
     "collapsed": false,
     "input": [
      "name = \"Lim Ah Seng\"\n",
      "print(type(name))"
     ],
     "language": "python",
     "metadata": {},
     "outputs": [
      {
       "output_type": "stream",
       "stream": "stdout",
       "text": [
        "<class 'str'>\n"
       ]
      }
     ],
     "prompt_number": 3
    },
    {
     "cell_type": "code",
     "collapsed": false,
     "input": [
      "# Strings can be single, double or triple quoted\n",
      "'Lim Ah Seng'\n",
      "\"Lim Ah Seng\"\n",
      "'''Lim Ah Seng'''\n",
      "\n",
      "# triple quote for multi-line strings\n",
      "'''Good morning boys and girls,\n",
      "Life is hard.\n",
      "Why not make it harder.'''"
     ],
     "language": "python",
     "metadata": {},
     "outputs": [
      {
       "output_type": "pyout",
       "prompt_number": 4,
       "text": [
        "'Good morning boys and girls,\\nLife is hard.\\nWhy not make it harder.'"
       ]
      }
     ],
     "prompt_number": 4
    },
    {
     "cell_type": "markdown",
     "metadata": {},
     "source": [
      "\\n represents a new line character. You should see the text display on separate lines on IDLE."
     ]
    },
    {
     "cell_type": "heading",
     "level": 4,
     "metadata": {},
     "source": [
      "Some useful string functions"
     ]
    },
    {
     "cell_type": "markdown",
     "metadata": {},
     "source": [
      "Declare a string variable superhero and initialize its value to \"Batman\"."
     ]
    },
    {
     "cell_type": "code",
     "collapsed": false,
     "input": [
      "superhero = \"Batman\""
     ],
     "language": "python",
     "metadata": {},
     "outputs": [],
     "prompt_number": 5
    },
    {
     "cell_type": "markdown",
     "metadata": {},
     "source": [
      "The len() function returns the number of characters in a string."
     ]
    },
    {
     "cell_type": "code",
     "collapsed": false,
     "input": [
      "len(superhero)"
     ],
     "language": "python",
     "metadata": {},
     "outputs": [
      {
       "output_type": "pyout",
       "prompt_number": 6,
       "text": [
        "6"
       ]
      }
     ],
     "prompt_number": 6
    },
    {
     "cell_type": "markdown",
     "metadata": {},
     "source": [
      "The upper() function converts all lowercase alphabets to uppercase."
     ]
    },
    {
     "cell_type": "code",
     "collapsed": false,
     "input": [
      "superhero.upper()"
     ],
     "language": "python",
     "metadata": {},
     "outputs": [
      {
       "output_type": "pyout",
       "prompt_number": 21,
       "text": [
        "'BATMAN'"
       ]
      }
     ],
     "prompt_number": 21
    },
    {
     "cell_type": "markdown",
     "metadata": {},
     "source": [
      "Subscript [] operation gives the character at the index position. Python subscripts are zero-based i.e. 0 is the first index."
     ]
    },
    {
     "cell_type": "code",
     "collapsed": false,
     "input": [
      "superhero[0]"
     ],
     "language": "python",
     "metadata": {},
     "outputs": [
      {
       "output_type": "pyout",
       "prompt_number": 22,
       "text": [
        "'B'"
       ]
      }
     ],
     "prompt_number": 22
    },
    {
     "cell_type": "code",
     "collapsed": false,
     "input": [
      "superhero[5]"
     ],
     "language": "python",
     "metadata": {},
     "outputs": [
      {
       "output_type": "pyout",
       "prompt_number": 13,
       "text": [
        "'n'"
       ]
      }
     ],
     "prompt_number": 13
    },
    {
     "cell_type": "code",
     "collapsed": false,
     "input": [
      "superhero[6]"
     ],
     "language": "python",
     "metadata": {},
     "outputs": [
      {
       "ename": "IndexError",
       "evalue": "string index out of range",
       "output_type": "pyerr",
       "traceback": [
        "\u001b[1;31m---------------------------------------------------------------------------\u001b[0m\n\u001b[1;31mIndexError\u001b[0m                                Traceback (most recent call last)",
        "\u001b[1;32m<ipython-input-14-9d669ba02efb>\u001b[0m in \u001b[0;36m<module>\u001b[1;34m()\u001b[0m\n\u001b[1;32m----> 1\u001b[1;33m \u001b[0msuperhero\u001b[0m\u001b[1;33m[\u001b[0m\u001b[1;36m6\u001b[0m\u001b[1;33m]\u001b[0m\u001b[1;33m\u001b[0m\u001b[0m\n\u001b[0m",
        "\u001b[1;31mIndexError\u001b[0m: string index out of range"
       ]
      }
     ],
     "prompt_number": 14
    },
    {
     "cell_type": "markdown",
     "metadata": {},
     "source": [
      "index -1 is also the last index."
     ]
    },
    {
     "cell_type": "code",
     "collapsed": false,
     "input": [
      "superhero[-1]"
     ],
     "language": "python",
     "metadata": {},
     "outputs": [
      {
       "output_type": "pyout",
       "prompt_number": 15,
       "text": [
        "'n'"
       ]
      }
     ],
     "prompt_number": 15
    },
    {
     "cell_type": "markdown",
     "metadata": {},
     "source": [
      "Python slicing operation gives substring indicated by the start and end (exclusive) indices."
     ]
    },
    {
     "cell_type": "code",
     "collapsed": false,
     "input": [
      "superhero[0:3] # or [:3]"
     ],
     "language": "python",
     "metadata": {},
     "outputs": [
      {
       "output_type": "pyout",
       "prompt_number": 17,
       "text": [
        "'Bat'"
       ]
      }
     ],
     "prompt_number": 17
    },
    {
     "cell_type": "code",
     "collapsed": false,
     "input": [
      "superhero[3:6] # or [3:]"
     ],
     "language": "python",
     "metadata": {},
     "outputs": [
      {
       "output_type": "pyout",
       "prompt_number": 18,
       "text": [
        "'man'"
       ]
      }
     ],
     "prompt_number": 18
    },
    {
     "cell_type": "markdown",
     "metadata": {},
     "source": [
      "## Input\n",
      "\n",
      "Get input from the user using console."
     ]
    },
    {
     "cell_type": "raw",
     "metadata": {},
     "source": [
      "x = input(\"Enter a number:\")\n",
      "print(x)\n",
      "\n",
      "name = input(\"Enter your name\")\n",
      "print(name)"
     ]
    },
    {
     "cell_type": "markdown",
     "metadata": {},
     "source": [
      "Note: IPython does not currently support input(). It should give the correct prompt in IDLE."
     ]
    },
    {
     "cell_type": "heading",
     "level": 2,
     "metadata": {},
     "source": [
      "Assignment"
     ]
    },
    {
     "cell_type": "code",
     "collapsed": false,
     "input": [
      "x = 1     # right hand side value is 1, so x is assigned 1\n",
      "\n",
      "x = 1 + 2 # x is assigned 3\n",
      "\n",
      "y = 5\n",
      "z = 8\n",
      "x = y + z # x is assigned sum of y and z\n",
      "\n",
      "x = x + 1 # x is assigned old value of x incremented by 1\n",
      "x += 1"
     ],
     "language": "python",
     "metadata": {},
     "outputs": [],
     "prompt_number": 25
    },
    {
     "cell_type": "heading",
     "level": 2,
     "metadata": {},
     "source": [
      "Arithmetic operations"
     ]
    },
    {
     "cell_type": "raw",
     "metadata": {},
     "source": [
      "+            # add\n",
      "-            # subtract\n",
      "*            # multiply\n",
      "/            # divide\n",
      "//           # quotient\n",
      "%            # remainder\n",
      "**           # exponent\n",
      "abs()        # absolute\n",
      "int()        # integer\n",
      "float()      # float\n",
      "pow()        # power"
     ]
    },
    {
     "cell_type": "heading",
     "level": 2,
     "metadata": {},
     "source": [
      "Logical operations"
     ]
    },
    {
     "cell_type": "raw",
     "metadata": {},
     "source": [
      "==            # equal\n",
      "!=            # not equal\n",
      "<             # less than\n",
      "<=            # less than and equal \n",
      ">             # greater than\n",
      ">=            # greater than and equal\n",
      "is            # equality for objects\n",
      "is not        # inequality for objects"
     ]
    },
    {
     "cell_type": "heading",
     "level": 2,
     "metadata": {},
     "source": [
      "Boolean operations"
     ]
    },
    {
     "cell_type": "raw",
     "metadata": {},
     "source": [
      "not            # negate\n",
      "and            # both must be true to return true\n",
      "or             # at least one true to return true"
     ]
    },
    {
     "cell_type": "markdown",
     "metadata": {},
     "source": [
      "## Formatting\n",
      "\n",
      "If you desire the output to be formatting nicely, Python offers the format() function."
     ]
    },
    {
     "cell_type": "raw",
     "metadata": {},
     "source": [
      "<placeholder string>.format(<values>)"
     ]
    },
    {
     "cell_type": "code",
     "collapsed": false,
     "input": [
      "# format 123 as integer, numbers are right justified\n",
      "print(\"{0}\".format(123))\n",
      "\n",
      "# format 123.45 as floating point number using 10 columns with 1 decimal place and left justified\n",
      "print(\"{0:<10.1f}\".format(123.45))\n",
      "\n",
      "# format \"123\" as string using 8 columns, strings are left justified\n",
      "print(\"{0:8s}\".format(\"123\"))"
     ],
     "language": "python",
     "metadata": {},
     "outputs": [
      {
       "output_type": "stream",
       "stream": "stdout",
       "text": [
        "123\n",
        "123.5     \n",
        "123     \n"
       ]
      }
     ],
     "prompt_number": 1
    },
    {
     "cell_type": "code",
     "collapsed": false,
     "input": [
      "name = \"Lim Ah Seng\"\n",
      "\n",
      "# format name as string using 20 columns\n",
      "print(\"{0:20s}\".format(name))\n",
      "\n",
      "# format name as string using 20 columns, right justified\n",
      "print(\"{0:>20s}\".format(name))"
     ],
     "language": "python",
     "metadata": {},
     "outputs": [
      {
       "output_type": "stream",
       "stream": "stdout",
       "text": [
        "Lim Ah Seng         \n",
        "         Lim Ah Seng\n"
       ]
      }
     ],
     "prompt_number": 30
    },
    {
     "cell_type": "code",
     "collapsed": false,
     "input": [
      "name = \"Lim Ah Seng\"\n",
      "age = 17\n",
      "\n",
      "# format string and number\n",
      "print(\"{0:20s} {1}\".format(name, age))\n",
      "\n",
      "\n",
      "# Q: What does the following do?\n",
      "\"{0:20s} {1:5.2f}\".format(name, age)"
     ],
     "language": "python",
     "metadata": {},
     "outputs": [
      {
       "output_type": "stream",
       "stream": "stdout",
       "text": [
        "Lim Ah Seng          17\n"
       ]
      },
      {
       "output_type": "pyout",
       "prompt_number": 32,
       "text": [
        "'Lim Ah Seng          17.00'"
       ]
      }
     ],
     "prompt_number": 32
    },
    {
     "cell_type": "markdown",
     "metadata": {},
     "source": [
      "&lt; left justify\n",
      "\n",
      "&gt; right justify\n",
      "\n",
      "s string\n",
      "\n",
      "f floating point number\n",
      "\n",
      "5.2f floating point number with 5 column width (include decimal point and decimal places) and 2 decimal places"
     ]
    },
    {
     "cell_type": "markdown",
     "metadata": {},
     "source": [
      "## Reserved words\n",
      "\n",
      "These are words with a special meaning in the language and cannot be used as program identifiers."
     ]
    },
    {
     "cell_type": "code",
     "collapsed": false,
     "input": [
      "import keyword \n",
      "print(keyword.kwlist)"
     ],
     "language": "python",
     "metadata": {},
     "outputs": [
      {
       "output_type": "stream",
       "stream": "stdout",
       "text": [
        "['False', 'None', 'True', 'and', 'as', 'assert', 'break', 'class', 'continue', 'def', 'del', 'elif', 'else', 'except', 'finally', 'for', 'from', 'global', 'if', 'import', 'in', 'is', 'lambda', 'nonlocal', 'not', 'or', 'pass', 'raise', 'return', 'try', 'while', 'with', 'yield']\n"
       ]
      }
     ],
     "prompt_number": 11
    },
    {
     "cell_type": "heading",
     "level": 2,
     "metadata": {},
     "source": [
      "Comments"
     ]
    },
    {
     "cell_type": "markdown",
     "metadata": {},
     "source": [
      "In Python comments begin with the # symbol. Comments are ignored by all programming languages. They are meant for humans to help them understand program code. Use appropriate annotation/comments (do not repeat code) to help yourself and others understand your code."
     ]
    },
    {
     "cell_type": "code",
     "collapsed": false,
     "input": [
      "# This is a comment"
     ],
     "language": "python",
     "metadata": {},
     "outputs": [],
     "prompt_number": 41
    },
    {
     "cell_type": "markdown",
     "metadata": {},
     "source": [
      "## Conditionals\n",
      "\n",
      "Sometimes whether we want to do something depends on whether some condition is true. We use the if conditional construct for this behaviour, which has the following form: "
     ]
    },
    {
     "cell_type": "raw",
     "metadata": {},
     "source": [
      "if <condition>:\n",
      "    <action1>\n",
      "[elif:]\n",
      "    [<action2>]\n",
      "...\n",
      "[else:]\n",
      "    [<action2>]"
     ]
    },
    {
     "cell_type": "code",
     "collapsed": false,
     "input": [
      "# if\n",
      "\n",
      "a = 3\n",
      "b = 2\n",
      "if a > b:\n",
      "    print(\"greater\")"
     ],
     "language": "python",
     "metadata": {},
     "outputs": [
      {
       "output_type": "stream",
       "stream": "stdout",
       "text": [
        "greater\n"
       ]
      }
     ],
     "prompt_number": 8
    },
    {
     "cell_type": "code",
     "collapsed": false,
     "input": [
      "# else\n",
      "\n",
      "a = 3\n",
      "b = 5\n",
      "if a > b:\n",
      "    print(\"greater\")\n",
      "else:\n",
      "    print(\"less than\")"
     ],
     "language": "python",
     "metadata": {},
     "outputs": [
      {
       "output_type": "stream",
       "stream": "stdout",
       "text": [
        "less than\n"
       ]
      }
     ],
     "prompt_number": 9
    },
    {
     "cell_type": "code",
     "collapsed": false,
     "input": [
      "# nested if\n",
      "\n",
      "a = 3\n",
      "b = 3\n",
      "if a > b:\n",
      "    print(\"greater\")\n",
      "elif a < b:\n",
      "    print(\"less than\")\n",
      "else:\n",
      "    print(\"equal\")"
     ],
     "language": "python",
     "metadata": {},
     "outputs": [
      {
       "output_type": "stream",
       "stream": "stdout",
       "text": [
        "equal\n"
       ]
      }
     ],
     "prompt_number": 10
    },
    {
     "cell_type": "heading",
     "level": 2,
     "metadata": {},
     "source": [
      "Importing from modules"
     ]
    },
    {
     "cell_type": "markdown",
     "metadata": {},
     "source": [
      "Python provides many modules useful for program development. To make use of these modules, we use the import statement."
     ]
    },
    {
     "cell_type": "code",
     "collapsed": false,
     "input": [
      "import math\n",
      "\n",
      "print(math.pi)"
     ],
     "language": "python",
     "metadata": {},
     "outputs": [
      {
       "output_type": "stream",
       "stream": "stdout",
       "text": [
        "3.141592653589793\n"
       ]
      }
     ],
     "prompt_number": 39
    },
    {
     "cell_type": "markdown",
     "metadata": {},
     "source": [
      "or"
     ]
    },
    {
     "cell_type": "code",
     "collapsed": false,
     "input": [
      "from math import pi\n",
      "\n",
      "print(pi)"
     ],
     "language": "python",
     "metadata": {},
     "outputs": [
      {
       "output_type": "stream",
       "stream": "stdout",
       "text": [
        "3.141592653589793\n"
       ]
      }
     ],
     "prompt_number": 40
    },
    {
     "cell_type": "heading",
     "level": 2,
     "metadata": {},
     "source": [
      "Exercise"
     ]
    },
    {
     "cell_type": "markdown",
     "metadata": {},
     "source": [
      "Write a program to get the following input from the user\n",
      "\n",
      "* weight in kg\n",
      "* height in m\n",
      "\n",
      "Compute and output the body mass index (BMI) correct to 2 decimal places.\n",
      "\n",
      "Display an appropriate message depending on the user's BMI value.\n",
      "\n",
      "Reference: http://www.hpb.gov.sg/hpb/default.asp?TEMPORARY_DOCUMENT=1769&TEMPORARY_TEMPLATE=2"
     ]
    },
    {
     "cell_type": "code",
     "collapsed": false,
     "input": [],
     "language": "python",
     "metadata": {},
     "outputs": []
    }
   ],
   "metadata": {}
  }
 ]
}
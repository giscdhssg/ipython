{
 "metadata": {
  "name": "D04_Data_Structures"
 },
 "nbformat": 3,
 "nbformat_minor": 0,
 "worksheets": [
  {
   "cells": [
    {
     "cell_type": "heading",
     "level": 1,
     "metadata": {},
     "source": [
      "Data Structures"
     ]
    },
    {
     "cell_type": "markdown",
     "metadata": {},
     "source": [
      "* an organized way of storing and organizing data so that they can be processed efficiently by a computer\n",
      "* using the appropriate data structure for an application allows one to manage a large amount of data"
     ]
    },
    {
     "cell_type": "markdown",
     "metadata": {},
     "source": [
      "We will be looking at\n",
      "\n",
      "* array and (Python) list\n",
      "* dictionary\n",
      "\n",
      "\n",
      "There will be a few more which we will cover later on in the course:\n",
      "\n",
      "* linked list\n",
      "* stack\n",
      "* queue\n",
      "* binary tree"
     ]
    },
    {
     "cell_type": "markdown",
     "metadata": {},
     "source": [
      "## Arrays\n",
      "\n",
      "* an ordered collection of homogeneous (same data type) items stored in contiguous memory locations\n",
      "* eg marks, rainfall\n",
      "* direct access to items using array index/subscript\n",
      "* eg marks[0] gives the first item in the array, marks[4] gives the fifth item\n",
      "* array subscript/index typically starts from 0  \n",
      "* in Python, we implement arrays using Python list"
     ]
    },
    {
     "cell_type": "code",
     "collapsed": false,
     "input": [
      "# declare an empty array\n",
      "marks = []\n",
      " \n",
      "# declare an array with 5 items\n",
      "marks = [78, 100, 65, 89, 32]\n",
      "\n",
      "# access an array using subscript/index\n",
      "marks[0] # first item, gives 78\n",
      "marks[2] # third item, gives 65\n",
      "marks[-1] # last item, gives 32, also marks[4]"
     ],
     "language": "python",
     "metadata": {},
     "outputs": [
      {
       "output_type": "pyout",
       "prompt_number": 1,
       "text": [
        "32"
       ]
      }
     ],
     "prompt_number": 1
    },
    {
     "cell_type": "code",
     "collapsed": false,
     "input": [
      "marks = [78, 100, 65, 89, 32]\n",
      "\n",
      "# assign values directly\n",
      "marks[0] = 74 # gives [74, 100, 65, 89, 32]\n",
      "\n",
      "# find how many items in an array \n",
      "len(marks)\n",
      "\n",
      "# print array contents using loop\n",
      "for i in range(len(marks)):\n",
      "    print(marks[i])"
     ],
     "language": "python",
     "metadata": {},
     "outputs": [
      {
       "output_type": "stream",
       "stream": "stdout",
       "text": [
        "74\n",
        "100\n",
        "65\n",
        "89\n",
        "32\n"
       ]
      }
     ],
     "prompt_number": 2
    },
    {
     "cell_type": "code",
     "collapsed": false,
     "input": [
      "marks = [78, 100, 65, 89, 32]\n",
      "\n",
      "# print array contents using a loop (a better way)\n",
      "for mark in marks:\n",
      "    print(mark)\n",
      "  \n",
      "# find maximum in an array\n",
      "max(marks)\n",
      "\n",
      "# sort an array\n",
      "marks.sort()\n",
      "\n",
      "# reverse an array\n",
      "marks.reverse()"
     ],
     "language": "python",
     "metadata": {},
     "outputs": [
      {
       "output_type": "stream",
       "stream": "stdout",
       "text": [
        "78\n",
        "100\n",
        "65\n",
        "89\n",
        "32\n"
       ]
      }
     ],
     "prompt_number": 3
    },
    {
     "cell_type": "code",
     "collapsed": false,
     "input": [
      "marks = [78, 100, 65, 89, 32]\n",
      "\n",
      "# insert to array \n",
      "marks.append(54)\n",
      "  \n",
      "# delete from array\n",
      "del marks[2] # or marks.remove(65)\n",
      "\n",
      "# search\n",
      "if mark in marks:\n",
      "    # found"
     ],
     "language": "python",
     "metadata": {},
     "outputs": [
      {
       "ename": "SyntaxError",
       "evalue": "unexpected EOF while parsing (<ipython-input-4-e3da755d7628>, line 11)",
       "output_type": "pyerr",
       "traceback": [
        "\u001b[1;36m  File \u001b[1;32m\"<ipython-input-4-e3da755d7628>\"\u001b[1;36m, line \u001b[1;32m11\u001b[0m\n\u001b[1;33m    # found\u001b[0m\n\u001b[1;37m           ^\u001b[0m\n\u001b[1;31mSyntaxError\u001b[0m\u001b[1;31m:\u001b[0m unexpected EOF while parsing\n"
       ]
      }
     ],
     "prompt_number": 4
    },
    {
     "cell_type": "markdown",
     "metadata": {},
     "source": [
      "### Python lists\n",
      "\n",
      "* ordered collection of items of possibly heterogeneous types\n",
      "* most of what we discussed for arrays work for lists"
     ]
    },
    {
     "cell_type": "code",
     "collapsed": false,
     "input": [
      "# initialize a list\n",
      "rojak = [1, 5.7, 'x', \"spam\", True]"
     ],
     "language": "python",
     "metadata": {},
     "outputs": [],
     "prompt_number": 7
    },
    {
     "cell_type": "code",
     "collapsed": false,
     "input": [
      "a = ['spam', 'eggs', 99, 123]\n",
      " \n",
      "# second and third items\n",
      "a[1:3] # or a[1:-1] \n",
      " \n",
      "# first to second item\n",
      "a[:2]  # or a[0:2]\n",
      "\n",
      "# second to last item\n",
      "a[2:] # or a[2:4] or a[2:len(a)]\n",
      "# first to last item\n",
      "a[:]  # or a[0:len(a)]"
     ],
     "language": "python",
     "metadata": {},
     "outputs": [
      {
       "output_type": "pyout",
       "prompt_number": 8,
       "text": [
        "['spam', 'eggs', 99, 123]"
       ]
      }
     ],
     "prompt_number": 8
    },
    {
     "cell_type": "code",
     "collapsed": false,
     "input": [
      "a = ['spam', 'eggs', 99, 123]\n",
      " \n",
      "# concatenate 2 lists  \n",
      "a[:2] + ['bacon', 2*2]\n",
      "# gives ['spam', 'eggs', 'bacon', 4]\n",
      " \n",
      "2 * a[:3] + ['Boo!'] \n",
      "['spam', 'eggs', 99, 'spam', 'eggs', 99, 'Boo!']"
     ],
     "language": "python",
     "metadata": {},
     "outputs": [
      {
       "output_type": "pyout",
       "prompt_number": 9,
       "text": [
        "['spam', 'eggs', 99, 'spam', 'eggs', 99, 'Boo!']"
       ]
      }
     ],
     "prompt_number": 9
    },
    {
     "cell_type": "code",
     "collapsed": false,
     "input": [
      "a = ['spam', 'eggs', 99, 123] \n",
      " \n",
      "# insert at index 1 \n",
      "a[1:1] = [5, 6] \n",
      "# gives ['spam', 5, 6, 'eggs', 100, 123]\n",
      "\n",
      "# insert list b at index 1 \n",
      "b = [5, 6] \n",
      "a.insert(1, b)\n",
      "# gives ['spam', [5, 6], 'eggs', 100, 123]"
     ],
     "language": "python",
     "metadata": {},
     "outputs": [],
     "prompt_number": 10
    },
    {
     "cell_type": "code",
     "collapsed": false,
     "input": [
      "a = ['spam', 'eggs', 99, 123] \n",
      " \n",
      "# insert a copy of itself to front \n",
      "a[:0] = a # or a[0:0] = a\n",
      "# gives ['spam', 'eggs', 99, 123, 'spam', 'eggs', 99, 123]\n",
      "\n",
      "# empty list\n",
      "a[:] = [] # or a = []"
     ],
     "language": "python",
     "metadata": {},
     "outputs": [],
     "prompt_number": 11
    },
    {
     "cell_type": "code",
     "collapsed": false,
     "input": [
      "x = ['to', 'be', 'or', 'not', 'to', 'be'] \n",
      "\n",
      "x.count('to') # gives 2\n",
      "\n",
      "\n",
      "y = [[1,2], 1, 1, [2,1,[1,2]], [1,2]]\n",
      " \n",
      "y.count([1,2]) # gives ?"
     ],
     "language": "python",
     "metadata": {},
     "outputs": [
      {
       "output_type": "pyout",
       "prompt_number": 12,
       "text": [
        "2"
       ]
      }
     ],
     "prompt_number": 12
    },
    {
     "cell_type": "markdown",
     "metadata": {},
     "source": [
      "## Exercise\n",
      "\n",
      "Your folio done using HTML5 will be assigned to a fellow Computing student for peer evaluation. \n",
      " \n",
      "Write a program to assign 24 web folios fairly to 24 Computing students for peer evaluation. A student is not his/her own peer i.e. he/she cannot evaluate his/her own folio.\n",
      "\n",
      "The best submission gets karma points."
     ]
    },
    {
     "cell_type": "code",
     "collapsed": false,
     "input": [],
     "language": "python",
     "metadata": {},
     "outputs": []
    },
    {
     "cell_type": "markdown",
     "metadata": {},
     "source": [
      "### Dictionary\n",
      "\n",
      "* collection of key-value pairs\n",
      "* eg phone directory with name (key) and tel number (value) Lim Ah Seng -> 87654321\n",
      "* another eg English language dictionary with word (key) and definition (value)\n",
      "* key-value pair allows better association of meaning"
     ]
    },
    {
     "cell_type": "code",
     "collapsed": false,
     "input": [
      "# initialize an empty dictionary\n",
      "phonebook = {}\n",
      "\n",
      "# insert to dictionary\n",
      "phonebook[\"Lim Ah Seng\"] = 87654321\n",
      "\n",
      "# delete from dictionary\n",
      "del phonebook[\"Lim Ah Seng\"]\n",
      " \n",
      "# delete all dictionary entries \n",
      "phonebook.clear()"
     ],
     "language": "python",
     "metadata": {},
     "outputs": [],
     "prompt_number": 13
    },
    {
     "cell_type": "code",
     "collapsed": false,
     "input": [
      "# check if a key is in a dictionary\n",
      "if key in phonebook.keys() \n",
      "\n",
      "# check if a value is in a dictionary\n",
      "if value in phonebook.values()\n",
      " \n",
      "# show all dictionary key-value entries \n",
      "for key, value in phonebook.items():\n",
      "    print(key, value)"
     ],
     "language": "python",
     "metadata": {},
     "outputs": [
      {
       "ename": "SyntaxError",
       "evalue": "invalid syntax (<ipython-input-14-9e85d0ff8750>, line 2)",
       "output_type": "pyerr",
       "traceback": [
        "\u001b[1;36m  File \u001b[1;32m\"<ipython-input-14-9e85d0ff8750>\"\u001b[1;36m, line \u001b[1;32m2\u001b[0m\n\u001b[1;33m    if key in phonebook.keys()\u001b[0m\n\u001b[1;37m                               ^\u001b[0m\n\u001b[1;31mSyntaxError\u001b[0m\u001b[1;31m:\u001b[0m invalid syntax\n"
       ]
      }
     ],
     "prompt_number": 14
    },
    {
     "cell_type": "markdown",
     "metadata": {},
     "source": [
      "## Exercise\n",
      "\n",
      "A phone book stores names with their contact numbers. Write a phone book application which will allow you to\n",
      "\n",
      "* search for an entry\n",
      "* insert an entry\n",
      "* update an entry \n",
      "* delete an entry\n",
      "* display all entries\n",
      "* quit\n",
      "\n",
      "Your program should continue until the user chooses to quit."
     ]
    },
    {
     "cell_type": "code",
     "collapsed": false,
     "input": [],
     "language": "python",
     "metadata": {},
     "outputs": []
    }
   ],
   "metadata": {}
  }
 ]
}